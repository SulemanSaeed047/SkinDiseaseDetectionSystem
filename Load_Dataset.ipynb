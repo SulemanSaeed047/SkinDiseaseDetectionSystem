{
 "cells": [
  {
   "cell_type": "code",
   "execution_count": 18,
   "metadata": {},
   "outputs": [],
   "source": [
    "import matplotlib.pyplot as plt\n",
    "import numpy as np\n",
    "import pandas as pd\n",
    "from PIL import Image\n",
    "import os\n",
    "from glob import glob\n",
    "import shutil"
   ]
  },
  {
   "cell_type": "code",
   "execution_count": 19,
   "metadata": {},
   "outputs": [],
   "source": [
    "data_dir = \"D:\\Dataset SDDS/Dataset/all_images/\"\n",
    "dest_dir = \"D:\\Dataset SDDS/Dataset/reorganized/\""
   ]
  },
  {
   "cell_type": "code",
   "execution_count": 20,
   "metadata": {},
   "outputs": [
    {
     "name": "stdout",
     "output_type": "stream",
     "text": [
      "nv     6704\n",
      "mel    1112\n",
      "bcc     514\n",
      "Name: dx, dtype: int64\n"
     ]
    }
   ],
   "source": [
    "skin_df2 = pd.read_csv('D:\\Dataset SDDS/Dataset/HAM10000_metadata.csv')\n",
    "print(skin_df2['dx'].value_counts())"
   ]
  },
  {
   "cell_type": "code",
   "execution_count": 21,
   "metadata": {},
   "outputs": [],
   "source": [
    "label=skin_df2['dx'].unique().tolist()\n",
    "label_images = []"
   ]
  },
  {
   "cell_type": "code",
   "execution_count": 22,
   "metadata": {},
   "outputs": [],
   "source": [
    "for i in label:\n",
    "    os.mkdir(dest_dir + str(i) + \"/\")\n",
    "    sample = skin_df2[skin_df2['dx'] == i]['image_id']\n",
    "    label_images.extend(sample)\n",
    "    for id in label_images:\n",
    "        shutil.copyfile((data_dir + \"/\"+ id +\".jpg\"), (dest_dir + i + \"/\"+id+\".jpg\"))\n",
    "    label_images=[]    "
   ]
  }
 ],
 "metadata": {
  "interpreter": {
   "hash": "c9c001dd312296178859e7c95f2ca431099cf7331feb3bdfb3b14084dd2f61c9"
  },
  "kernelspec": {
   "display_name": "Python 3.9.7 64-bit ('SkinDiseaseDetectionSystem': conda)",
   "language": "python",
   "name": "python3"
  },
  "language_info": {
   "codemirror_mode": {
    "name": "ipython",
    "version": 3
   },
   "file_extension": ".py",
   "mimetype": "text/x-python",
   "name": "python",
   "nbconvert_exporter": "python",
   "pygments_lexer": "ipython3",
   "version": "3.9.10"
  },
  "orig_nbformat": 4
 },
 "nbformat": 4,
 "nbformat_minor": 2
}
