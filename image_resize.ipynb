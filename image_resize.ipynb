{
 "cells": [
  {
   "cell_type": "code",
   "execution_count": 1,
   "metadata": {},
   "outputs": [],
   "source": [
    "from PIL import Image\n",
    "import os,sys"
   ]
  },
  {
   "cell_type": "code",
   "execution_count": 2,
   "metadata": {},
   "outputs": [],
   "source": [
    "path=r'D:\\Dataset SDDS/Dataset/organize/'"
   ]
  },
  {
   "cell_type": "code",
   "execution_count": 3,
   "metadata": {},
   "outputs": [
    {
     "data": {
      "text/plain": [
       "['bcc', 'mel', 'nv']"
      ]
     },
     "execution_count": 3,
     "metadata": {},
     "output_type": "execute_result"
    }
   ],
   "source": [
    "dirs=os.listdir(path)\n",
    "dirs"
   ]
  },
  {
   "cell_type": "code",
   "execution_count": 4,
   "metadata": {},
   "outputs": [],
   "source": [
    "def resize():\n",
    "    for item in dirs:\n",
    "        for img in os.listdir(path+item):\n",
    "            if os.path.isfile(path+item+'/'+img):\n",
    "                a=path+'/'+item\n",
    "                try:\n",
    "                    im=Image.open(path+item+'/'+img)\n",
    "                    f,e=os.path.splitext(img)\n",
    "                    imResize = im.resize((128,64), Image.ANTIALIAS)\n",
    "                    imResize.save(a+f + '_resized.jpg', 'JPEG', quality=90)\n",
    "                except:\n",
    "                    continue"
   ]
  },
  {
   "cell_type": "code",
   "execution_count": 5,
   "metadata": {},
   "outputs": [],
   "source": [
    "resize()"
   ]
  }
 ],
 "metadata": {
  "interpreter": {
   "hash": "7007a7d089dc78c40290e67c0cd9e90a355106ad990ef700c6a0cc4ffe27605c"
  },
  "kernelspec": {
   "display_name": "Python 3.9.10 ('DjangoProject')",
   "language": "python",
   "name": "python3"
  },
  "language_info": {
   "codemirror_mode": {
    "name": "ipython",
    "version": 3
   },
   "file_extension": ".py",
   "mimetype": "text/x-python",
   "name": "python",
   "nbconvert_exporter": "python",
   "pygments_lexer": "ipython3",
   "version": "3.9.10"
  },
  "orig_nbformat": 4
 },
 "nbformat": 4,
 "nbformat_minor": 2
}
